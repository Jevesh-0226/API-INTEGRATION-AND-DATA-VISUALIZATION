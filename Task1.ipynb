import requests
import matplotlib.pyplot as plt


api_key = "your_api_key_here"


city1 = "Delhi"
city2 = "Mumbai"


url1 = f"http://api.openweathermap.org/data/2.5/weather?q={city1}&appid={api_key}&units=metric"
url2 = f"http://api.openweathermap.org/data/2.5/weather?q={city2}&appid={api_key}&units=metric"


data1 = requests.get(url1).json()
data2 = requests.get(url2).json()


temp1 = data1['main']['temp']
temp2 = data2['main']['temp']


cities = [city1, city2]
temps = [temp1, temp2]

plt.bar(cities, temps, color=['orange', 'skyblue'])
plt.title("Temperature Comparison")
plt.xlabel("City")
plt.ylabel("Temperature (°C)")
plt.show()
